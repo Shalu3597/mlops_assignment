{
 "cells": [
  {
   "cell_type": "code",
   "execution_count": 1,
   "id": "027a7c29",
   "metadata": {},
   "outputs": [],
   "source": [
    "import numpy as np\n",
    "import pandas as pd \n",
    "from sklearn.datasets import load_iris\n",
    "\n",
    "import seaborn as sns\n",
    "import matplotlib.pyplot as plt\n",
    "%matplotlib inline\n",
    "\n",
    "import warnings\n",
    "warnings.filterwarnings('ignore')"
   ]
  },
  {
   "cell_type": "code",
   "execution_count": 2,
   "id": "f386d4c9",
   "metadata": {},
   "outputs": [],
   "source": [
    "data = load_iris()\n",
    "df = pd.DataFrame(data.data, columns = data.feature_names)\n",
    "df['target'] = data.target"
   ]
  },
  {
   "cell_type": "code",
   "execution_count": 3,
   "id": "9ed5c7ca",
   "metadata": {},
   "outputs": [
    {
     "data": {
      "text/plain": [
       "['setosa', 'versicolor', 'virginica']"
      ]
     },
     "execution_count": 3,
     "metadata": {},
     "output_type": "execute_result"
    }
   ],
   "source": [
    "list(data.target_names)"
   ]
  },
  {
   "cell_type": "code",
   "execution_count": 4,
   "id": "a6b201d7",
   "metadata": {},
   "outputs": [
    {
     "data": {
      "text/html": [
       "<div>\n",
       "<style scoped>\n",
       "    .dataframe tbody tr th:only-of-type {\n",
       "        vertical-align: middle;\n",
       "    }\n",
       "\n",
       "    .dataframe tbody tr th {\n",
       "        vertical-align: top;\n",
       "    }\n",
       "\n",
       "    .dataframe thead th {\n",
       "        text-align: right;\n",
       "    }\n",
       "</style>\n",
       "<table border=\"1\" class=\"dataframe\">\n",
       "  <thead>\n",
       "    <tr style=\"text-align: right;\">\n",
       "      <th></th>\n",
       "      <th>sepal length (cm)</th>\n",
       "      <th>sepal width (cm)</th>\n",
       "      <th>petal length (cm)</th>\n",
       "      <th>petal width (cm)</th>\n",
       "      <th>target</th>\n",
       "    </tr>\n",
       "  </thead>\n",
       "  <tbody>\n",
       "    <tr>\n",
       "      <th>0</th>\n",
       "      <td>5.1</td>\n",
       "      <td>3.5</td>\n",
       "      <td>1.4</td>\n",
       "      <td>0.2</td>\n",
       "      <td>0</td>\n",
       "    </tr>\n",
       "    <tr>\n",
       "      <th>1</th>\n",
       "      <td>4.9</td>\n",
       "      <td>3.0</td>\n",
       "      <td>1.4</td>\n",
       "      <td>0.2</td>\n",
       "      <td>0</td>\n",
       "    </tr>\n",
       "    <tr>\n",
       "      <th>2</th>\n",
       "      <td>4.7</td>\n",
       "      <td>3.2</td>\n",
       "      <td>1.3</td>\n",
       "      <td>0.2</td>\n",
       "      <td>0</td>\n",
       "    </tr>\n",
       "    <tr>\n",
       "      <th>3</th>\n",
       "      <td>4.6</td>\n",
       "      <td>3.1</td>\n",
       "      <td>1.5</td>\n",
       "      <td>0.2</td>\n",
       "      <td>0</td>\n",
       "    </tr>\n",
       "    <tr>\n",
       "      <th>4</th>\n",
       "      <td>5.0</td>\n",
       "      <td>3.6</td>\n",
       "      <td>1.4</td>\n",
       "      <td>0.2</td>\n",
       "      <td>0</td>\n",
       "    </tr>\n",
       "  </tbody>\n",
       "</table>\n",
       "</div>"
      ],
      "text/plain": [
       "   sepal length (cm)  sepal width (cm)  petal length (cm)  petal width (cm)  \\\n",
       "0                5.1               3.5                1.4               0.2   \n",
       "1                4.9               3.0                1.4               0.2   \n",
       "2                4.7               3.2                1.3               0.2   \n",
       "3                4.6               3.1                1.5               0.2   \n",
       "4                5.0               3.6                1.4               0.2   \n",
       "\n",
       "   target  \n",
       "0       0  \n",
       "1       0  \n",
       "2       0  \n",
       "3       0  \n",
       "4       0  "
      ]
     },
     "execution_count": 4,
     "metadata": {},
     "output_type": "execute_result"
    }
   ],
   "source": [
    "df.head()"
   ]
  },
  {
   "cell_type": "code",
   "execution_count": 5,
   "id": "a6e2d965",
   "metadata": {},
   "outputs": [
    {
     "data": {
      "text/plain": [
       "array([0, 1, 2])"
      ]
     },
     "execution_count": 5,
     "metadata": {},
     "output_type": "execute_result"
    }
   ],
   "source": [
    "df[\"target\"].unique()"
   ]
  },
  {
   "cell_type": "code",
   "execution_count": 6,
   "id": "5d72bd32",
   "metadata": {},
   "outputs": [
    {
     "name": "stdout",
     "output_type": "stream",
     "text": [
      "<class 'pandas.core.frame.DataFrame'>\n",
      "RangeIndex: 150 entries, 0 to 149\n",
      "Data columns (total 5 columns):\n",
      " #   Column             Non-Null Count  Dtype  \n",
      "---  ------             --------------  -----  \n",
      " 0   sepal length (cm)  150 non-null    float64\n",
      " 1   sepal width (cm)   150 non-null    float64\n",
      " 2   petal length (cm)  150 non-null    float64\n",
      " 3   petal width (cm)   150 non-null    float64\n",
      " 4   target             150 non-null    int32  \n",
      "dtypes: float64(4), int32(1)\n",
      "memory usage: 5.4 KB\n"
     ]
    }
   ],
   "source": [
    "df.info()"
   ]
  },
  {
   "cell_type": "code",
   "execution_count": 7,
   "id": "63f927e5",
   "metadata": {},
   "outputs": [
    {
     "data": {
      "text/plain": [
       "sepal length (cm)    0\n",
       "sepal width (cm)     0\n",
       "petal length (cm)    0\n",
       "petal width (cm)     0\n",
       "target               0\n",
       "dtype: int64"
      ]
     },
     "execution_count": 7,
     "metadata": {},
     "output_type": "execute_result"
    }
   ],
   "source": [
    "df.isnull().sum()"
   ]
  },
  {
   "cell_type": "code",
   "execution_count": 8,
   "id": "4acc9362",
   "metadata": {},
   "outputs": [
    {
     "data": {
      "text/plain": [
       "<AxesSubplot:>"
      ]
     },
     "execution_count": 8,
     "metadata": {},
     "output_type": "execute_result"
    },
    {
     "data": {
      "image/png": "[encoded data removed]",
      "text/plain": [
       "<Figure size 432x288 with 2 Axes>"
      ]
     },
     "metadata": {
      "needs_background": "light"
     },
     "output_type": "display_data"
    }
   ],
   "source": [
    "sns.heatmap(df.corr(), annot = True)"
   ]
  },
  {
   "cell_type": "code",
   "execution_count": 9,
   "id": "22175b8e",
   "metadata": {},
   "outputs": [],
   "source": [
    "from sklearn.linear_model import LogisticRegression\n",
    "from sklearn.tree import DecisionTreeClassifier\n",
    "from sklearn.model_selection import train_test_split \n",
    "from sklearn import metrics "
   ]
  },
  {
   "cell_type": "code",
   "execution_count": 10,
   "id": "8e840577",
   "metadata": {},
   "outputs": [
    {
     "data": {
      "text/plain": [
       "(150, 5)"
      ]
     },
     "execution_count": 10,
     "metadata": {},
     "output_type": "execute_result"
    }
   ],
   "source": [
    "df.shape"
   ]
  },
  {
   "cell_type": "code",
   "execution_count": 11,
   "id": "618f32f9",
   "metadata": {},
   "outputs": [
    {
     "name": "stdout",
     "output_type": "stream",
     "text": [
      "(105, 5)\n",
      "(45, 5)\n"
     ]
    }
   ],
   "source": [
    "train, test = train_test_split(df, test_size=0.3,random_state = 40)\n",
    "print(train.shape)\n",
    "print(test.shape)"
   ]
  },
  {
   "cell_type": "code",
   "execution_count": 12,
   "id": "bbfa4ac8",
   "metadata": {},
   "outputs": [],
   "source": [
    "train_X = train[['sepal length (cm)','sepal width (cm)','petal length (cm)','petal width (cm)']] # taking the training data features\n",
    "train_y = train[['target']]\n",
    "\n",
    "test_X = test[['sepal length (cm)','sepal width (cm)','petal length (cm)','petal width (cm)']] # taking test data feature\n",
    "test_y = test[['target']] "
   ]
  },
  {
   "cell_type": "code",
   "execution_count": 13,
   "id": "e4243bbd",
   "metadata": {},
   "outputs": [
    {
     "data": {
      "text/html": [
       "<div>\n",
       "<style scoped>\n",
       "    .dataframe tbody tr th:only-of-type {\n",
       "        vertical-align: middle;\n",
       "    }\n",
       "\n",
       "    .dataframe tbody tr th {\n",
       "        vertical-align: top;\n",
       "    }\n",
       "\n",
       "    .dataframe thead th {\n",
       "        text-align: right;\n",
       "    }\n",
       "</style>\n",
       "<table border=\"1\" class=\"dataframe\">\n",
       "  <thead>\n",
       "    <tr style=\"text-align: right;\">\n",
       "      <th></th>\n",
       "      <th>sepal length (cm)</th>\n",
       "      <th>sepal width (cm)</th>\n",
       "      <th>petal length (cm)</th>\n",
       "      <th>petal width (cm)</th>\n",
       "    </tr>\n",
       "  </thead>\n",
       "  <tbody>\n",
       "    <tr>\n",
       "      <th>39</th>\n",
       "      <td>5.1</td>\n",
       "      <td>3.4</td>\n",
       "      <td>1.5</td>\n",
       "      <td>0.2</td>\n",
       "    </tr>\n",
       "    <tr>\n",
       "      <th>118</th>\n",
       "      <td>7.7</td>\n",
       "      <td>2.6</td>\n",
       "      <td>6.9</td>\n",
       "      <td>2.3</td>\n",
       "    </tr>\n",
       "    <tr>\n",
       "      <th>138</th>\n",
       "      <td>6.0</td>\n",
       "      <td>3.0</td>\n",
       "      <td>4.8</td>\n",
       "      <td>1.8</td>\n",
       "    </tr>\n",
       "    <tr>\n",
       "      <th>75</th>\n",
       "      <td>6.6</td>\n",
       "      <td>3.0</td>\n",
       "      <td>4.4</td>\n",
       "      <td>1.4</td>\n",
       "    </tr>\n",
       "    <tr>\n",
       "      <th>37</th>\n",
       "      <td>4.9</td>\n",
       "      <td>3.6</td>\n",
       "      <td>1.4</td>\n",
       "      <td>0.1</td>\n",
       "    </tr>\n",
       "  </tbody>\n",
       "</table>\n",
       "</div>"
      ],
      "text/plain": [
       "     sepal length (cm)  sepal width (cm)  petal length (cm)  petal width (cm)\n",
       "39                 5.1               3.4                1.5               0.2\n",
       "118                7.7               2.6                6.9               2.3\n",
       "138                6.0               3.0                4.8               1.8\n",
       "75                 6.6               3.0                4.4               1.4\n",
       "37                 4.9               3.6                1.4               0.1"
      ]
     },
     "execution_count": 13,
     "metadata": {},
     "output_type": "execute_result"
    }
   ],
   "source": [
    "train_X.head()"
   ]
  },
  {
   "cell_type": "code",
   "execution_count": 14,
   "id": "b7334e76",
   "metadata": {},
   "outputs": [
    {
     "data": {
      "text/html": [
       "<div>\n",
       "<style scoped>\n",
       "    .dataframe tbody tr th:only-of-type {\n",
       "        vertical-align: middle;\n",
       "    }\n",
       "\n",
       "    .dataframe tbody tr th {\n",
       "        vertical-align: top;\n",
       "    }\n",
       "\n",
       "    .dataframe thead th {\n",
       "        text-align: right;\n",
       "    }\n",
       "</style>\n",
       "<table border=\"1\" class=\"dataframe\">\n",
       "  <thead>\n",
       "    <tr style=\"text-align: right;\">\n",
       "      <th></th>\n",
       "      <th>target</th>\n",
       "    </tr>\n",
       "  </thead>\n",
       "  <tbody>\n",
       "    <tr>\n",
       "      <th>39</th>\n",
       "      <td>0</td>\n",
       "    </tr>\n",
       "    <tr>\n",
       "      <th>118</th>\n",
       "      <td>2</td>\n",
       "    </tr>\n",
       "    <tr>\n",
       "      <th>138</th>\n",
       "      <td>2</td>\n",
       "    </tr>\n",
       "    <tr>\n",
       "      <th>75</th>\n",
       "      <td>1</td>\n",
       "    </tr>\n",
       "    <tr>\n",
       "      <th>37</th>\n",
       "      <td>0</td>\n",
       "    </tr>\n",
       "  </tbody>\n",
       "</table>\n",
       "</div>"
      ],
      "text/plain": [
       "     target\n",
       "39        0\n",
       "118       2\n",
       "138       2\n",
       "75        1\n",
       "37        0"
      ]
     },
     "execution_count": 14,
     "metadata": {},
     "output_type": "execute_result"
    }
   ],
   "source": [
    "train_y.head()"
   ]
  },
  {
   "cell_type": "code",
   "execution_count": 15,
   "id": "62f506e1",
   "metadata": {},
   "outputs": [],
   "source": [
    "test_X.head()\n",
    "test_X.to_csv('testfile.csv')"
   ]
  },
  {
   "cell_type": "code",
   "execution_count": 16,
   "id": "9cb6170b",
   "metadata": {},
   "outputs": [
    {
     "data": {
      "text/html": [
       "<div>\n",
       "<style scoped>\n",
       "    .dataframe tbody tr th:only-of-type {\n",
       "        vertical-align: middle;\n",
       "    }\n",
       "\n",
       "    .dataframe tbody tr th {\n",
       "        vertical-align: top;\n",
       "    }\n",
       "\n",
       "    .dataframe thead th {\n",
       "        text-align: right;\n",
       "    }\n",
       "</style>\n",
       "<table border=\"1\" class=\"dataframe\">\n",
       "  <thead>\n",
       "    <tr style=\"text-align: right;\">\n",
       "      <th></th>\n",
       "      <th>target</th>\n",
       "    </tr>\n",
       "  </thead>\n",
       "  <tbody>\n",
       "    <tr>\n",
       "      <th>38</th>\n",
       "      <td>0</td>\n",
       "    </tr>\n",
       "    <tr>\n",
       "      <th>66</th>\n",
       "      <td>1</td>\n",
       "    </tr>\n",
       "    <tr>\n",
       "      <th>115</th>\n",
       "      <td>2</td>\n",
       "    </tr>\n",
       "    <tr>\n",
       "      <th>117</th>\n",
       "      <td>2</td>\n",
       "    </tr>\n",
       "    <tr>\n",
       "      <th>89</th>\n",
       "      <td>1</td>\n",
       "    </tr>\n",
       "  </tbody>\n",
       "</table>\n",
       "</div>"
      ],
      "text/plain": [
       "     target\n",
       "38        0\n",
       "66        1\n",
       "115       2\n",
       "117       2\n",
       "89        1"
      ]
     },
     "execution_count": 16,
     "metadata": {},
     "output_type": "execute_result"
    }
   ],
   "source": [
    "test_y.head()"
   ]
  },
  {
   "cell_type": "code",
   "execution_count": 17,
   "id": "5ac179e5",
   "metadata": {},
   "outputs": [
    {
     "name": "stdout",
     "output_type": "stream",
     "text": [
      "The accuracy of Logistic Regression is:  1.0\n"
     ]
    }
   ],
   "source": [
    "model1 = LogisticRegression()\n",
    "model1.fit(train_X, train_y)\n",
    "prediction = model1.predict(test_X)\n",
    "print('The accuracy of Logistic Regression is: ', metrics.accuracy_score(test_y,prediction))"
   ]
  },
  {
   "cell_type": "code",
   "execution_count": 18,
   "id": "acf15975",
   "metadata": {},
   "outputs": [
    {
     "name": "stdout",
     "output_type": "stream",
     "text": [
      "The accuracy of Decision Tree is:  1.0\n"
     ]
    }
   ],
   "source": [
    "model2 = DecisionTreeClassifier()\n",
    "model2.fit(train_X, train_y)\n",
    "prediction = model2.predict(test_X)\n",
    "print('The accuracy of Decision Tree is: ', metrics.accuracy_score(prediction, test_y))"
   ]
  },
  {
   "cell_type": "markdown",
   "id": "4b7dd1aa",
   "metadata": {},
   "source": [
    "## We used all the features of iris in above models. Now we will use Petals and Sepals Seperately"
   ]
  },
  {
   "cell_type": "code",
   "execution_count": 19,
   "id": "1a602b0c",
   "metadata": {},
   "outputs": [],
   "source": [
    "petal = df[['petal length (cm)','petal width (cm)','target']]\n",
    "sepal = df[['sepal length (cm)','sepal width (cm)','target']]"
   ]
  },
  {
   "cell_type": "code",
   "execution_count": 20,
   "id": "db0f718b",
   "metadata": {},
   "outputs": [],
   "source": [
    "train_p,test_p = train_test_split(petal, test_size=0.3, random_state=0) #petals\n",
    "train_x_p = train_p[['petal width (cm)','petal length (cm)']]\n",
    "train_y_p = train_p[['target']]\n",
    "\n",
    "test_x_p = test_p[['petal width (cm)','petal length (cm)']]\n",
    "test_y_p = test_p[['target']]"
   ]
  },
  {
   "cell_type": "code",
   "execution_count": 21,
   "id": "68120275",
   "metadata": {},
   "outputs": [],
   "source": [
    "train_s,test_s = train_test_split(sepal, test_size=0.3, random_state=0) #sepals\n",
    "train_x_s = train_s[['sepal width (cm)','sepal length (cm)']]\n",
    "train_y_s = train_s[['target']]\n",
    "\n",
    "test_x_s = test_s[['sepal width (cm)','sepal length (cm)']]\n",
    "test_y_s = test_s[['target']]"
   ]
  },
  {
   "cell_type": "code",
   "execution_count": 22,
   "id": "82a6cee3",
   "metadata": {},
   "outputs": [
    {
     "name": "stdout",
     "output_type": "stream",
     "text": [
      "The accuracy of the Logistic Regression using Petals is: 0.9777777777777777\n",
      "The accuracy of the Logistic Regression using Sepals is: 0.8222222222222222\n"
     ]
    }
   ],
   "source": [
    "model3 = LogisticRegression()\n",
    "model3.fit(train_x_p,train_y_p) \n",
    "prediction=model3.predict(test_x_p) \n",
    "print('The accuracy of the Logistic Regression using Petals is:',metrics.accuracy_score(prediction,test_y_p))\n",
    "\n",
    "model3.fit(train_x_s,train_y_s) \n",
    "prediction=model3.predict(test_x_s) \n",
    "print('The accuracy of the Logistic Regression using Sepals is:',metrics.accuracy_score(prediction,test_y_s))"
   ]
  },
  {
   "cell_type": "code",
   "execution_count": 23,
   "id": "75dedaeb",
   "metadata": {},
   "outputs": [
    {
     "name": "stdout",
     "output_type": "stream",
     "text": [
      "The accuracy of the Decision Tree using Petals is: 0.9555555555555556\n",
      "The accuracy of the Decision Tree using Sepals is: 0.6666666666666666\n"
     ]
    }
   ],
   "source": [
    "model4=DecisionTreeClassifier()\n",
    "model4.fit(train_x_p,train_y_p) \n",
    "prediction=model4.predict(test_x_p) \n",
    "print('The accuracy of the Decision Tree using Petals is:',metrics.accuracy_score(prediction,test_y_p))\n",
    "\n",
    "model4.fit(train_x_s,train_y_s) \n",
    "prediction=model4.predict(test_x_s) \n",
    "print('The accuracy of the Decision Tree using Sepals is:',metrics.accuracy_score(prediction,test_y_s))"
   ]
  },
  {
   "cell_type": "code",
   "execution_count": 26,
   "id": "498e4c28",
   "metadata": {},
   "outputs": [
    {
     "data": {
      "text/html": [
       "<iframe id='facets-iframe' width=\"100%\" height=\"500px\"></iframe>\n",
       "        <script>\n",
       "        facets_iframe = document.getElementById('facets-iframe');\n",
       "        facets_html = '<script src=\"https://cdnjs.cloudflare.com/ajax/libs/webcomponentsjs/1.3.3/webcomponents-lite.js\"><\\/script><link rel=\"import\" href=\"https://raw.githubusercontent.com/PAIR-code/facets/master/facets-dist/facets-jupyter.html\"><facets-overview proto-input=\"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\"></facets-overview>';\n",
       "        facets_iframe.srcdoc = facets_html;\n",
       "         facets_iframe.id = \"\";\n",
       "         setTimeout(() => {\n",
       "           facets_iframe.setAttribute('height', facets_iframe.contentWindow.document.body.offsetHeight + 'px')\n",
       "         }, 1500)\n",
       "         </script>"
      ],
      "text/plain": [
       "<IPython.core.display.HTML object>"
      ]
     },
     "metadata": {},
     "output_type": "display_data"
    }
   ],
   "source": [
    "import tensorflow_data_validation as tfdv\n",
    "\n",
    "\n",
    "train, test = train_test_split(df, test_size=0.3,random_state = 40)\n",
    "train_stats = tfdv.generate_statistics_from_dataframe(train)\n",
    "test_stats = tfdv.generate_statistics_from_dataframe(test)\n",
    "\n",
    "tfdv.visualize_statistics(\n",
    "    lhs_statistics=test_stats, \n",
    "    rhs_statistics=train_stats, \n",
    "    lhs_name='TEST_DATASET', \n",
    "    rhs_name='TRAIN_DATASET'\n",
    ")"
   ]
  },
  {
   "cell_type": "code",
   "execution_count": 27,
   "id": "e2d9548d",
   "metadata": {},
   "outputs": [],
   "source": [
    "from sklearn import datasets\n",
    "from sklearn.feature_selection import chi2\n",
    "from sklearn.feature_selection import SelectKBest"
   ]
  },
  {
   "cell_type": "code",
   "execution_count": 28,
   "id": "669136f2",
   "metadata": {},
   "outputs": [],
   "source": [
    "from scipy.stats import chi2_contingency\n",
    "from scipy.stats import chi2\n",
    "stat, p, dof, expected = chi2_contingency(df)"
   ]
  },
  {
   "cell_type": "code",
   "execution_count": 29,
   "id": "edb81a00",
   "metadata": {},
   "outputs": [
    {
     "name": "stdout",
     "output_type": "stream",
     "text": [
      "probability=0.950, critical=653.903, stat=197.725\n",
      "There is no drift (fail to reject H0)\n"
     ]
    }
   ],
   "source": [
    "# interpret test-statistic\n",
    "prob = 0.95\n",
    "critical = chi2.ppf(prob, dof)\n",
    "print('probability=%.3f, critical=%.3f, stat=%.3f' % (prob, critical, stat))\n",
    "if abs(stat) >= critical:\n",
    "    print('There is a drift (reject H0)')\n",
    "else:\n",
    "    print('There is no drift (fail to reject H0)')"
   ]
  },
  {
   "cell_type": "code",
   "execution_count": 30,
   "id": "3aa65e91",
   "metadata": {},
   "outputs": [
    {
     "name": "stdout",
     "output_type": "stream",
     "text": [
      "significance=0.050, p=1.000\n",
      "There is no drift (fail to reject H0)\n"
     ]
    }
   ],
   "source": [
    "# interpret p-value\n",
    "alpha = 1.0 - prob\n",
    "print('significance=%.3f, p=%.3f' % (alpha, p))\n",
    "if p <= alpha:\n",
    "    print('There is a drift (reject H0)')\n",
    "else:\n",
    "    print('There is no drift (fail to reject H0)')"
   ]
  },
  {
   "cell_type": "code",
   "execution_count": 31,
   "id": "1f8a9b98",
   "metadata": {},
   "outputs": [],
   "source": [
    "import pickle\n",
    "pickle_out = open(\"application/classifier.pkl\",\"wb\")\n",
    "pickle.dump(model1, pickle_out)\n",
    "pickle_out.close()"
   ]
  },
  {
   "cell_type": "code",
   "execution_count": 32,
   "id": "f88d3146",
   "metadata": {},
   "outputs": [
    {
     "data": {
      "text/html": [
       "<details>\n",
       "<summary>Click to view session information</summary>\n",
       "<pre>\n",
       "-----\n",
       "matplotlib                  3.5.2\n",
       "numpy                       1.22.4\n",
       "pandas                      1.4.2\n",
       "scipy                       1.8.1\n",
       "seaborn                     0.11.2\n",
       "session_info                1.0.0\n",
       "sklearn                     1.1.1\n",
       "tensorflow_data_validation  1.8.0\n",
       "tensorflow_metadata         NA\n",
       "-----\n",
       "</pre>\n",
       "<details>\n",
       "<summary>Click to view modules imported as dependencies</summary>\n",
       "<pre>\n",
       "PIL                                         9.1.1\n",
       "aa8f2297d25b4dc6fd3d98411eb3ba53823c4f42    NA\n",
       "absl                                        NA\n",
       "apache_beam                                 2.39.0\n",
       "apitools                                    NA\n",
       "asttokens                                   NA\n",
       "astunparse                                  1.6.3\n",
       "backcall                                    0.2.0\n",
       "beta_ufunc                                  NA\n",
       "binom_ufunc                                 NA\n",
       "bson                                        NA\n",
       "cachetools                                  4.2.4\n",
       "certifi                                     2022.05.18.1\n",
       "cffi                                        1.15.0\n",
       "charset_normalizer                          2.0.12\n",
       "cloudpickle                                 2.1.0\n",
       "colorama                                    0.4.4\n",
       "crcmod                                      NA\n",
       "cycler                                      0.10.0\n",
       "cython_runtime                              NA\n",
       "dateutil                                    2.8.2\n",
       "debugpy                                     1.5.1\n",
       "decorator                                   5.1.1\n",
       "defusedxml                                  0.7.1\n",
       "dill                                        0.3.1.1\n",
       "dot_parser                                  NA\n",
       "entrypoints                                 0.4\n",
       "executing                                   0.8.3\n",
       "farmhash                                    NA\n",
       "fastavro                                    1.4.12\n",
       "fasteners                                   0.17.3\n",
       "flatbuffers                                 NA\n",
       "gast                                        NA\n",
       "google                                      NA\n",
       "google_auth_httplib2                        NA\n",
       "googleapiclient                             NA\n",
       "grpc                                        1.46.3\n",
       "grpc_gcp                                    NA\n",
       "grpc_status                                 NA\n",
       "h5py                                        3.7.0\n",
       "hdfs                                        2.7.0\n",
       "httplib2                                    0.19.1\n",
       "hypergeom_ufunc                             NA\n",
       "idna                                        3.3\n",
       "importlib_metadata                          NA\n",
       "ipykernel                                   6.9.1\n",
       "ipython_genutils                            0.2.0\n",
       "jedi                                        0.18.1\n",
       "joblib                                      0.14.1\n",
       "keras                                       2.9.0\n",
       "kiwisolver                                  1.4.2\n",
       "matplotlib_inline                           NA\n",
       "mpl_toolkits                                NA\n",
       "nbinom_ufunc                                NA\n",
       "nt                                          NA\n",
       "ntsecuritycon                               NA\n",
       "oauth2client                                4.1.3\n",
       "opt_einsum                                  v3.3.0\n",
       "orjson                                      3.6.8\n",
       "packaging                                   21.3\n",
       "parso                                       0.8.3\n",
       "pickleshare                                 0.7.5\n",
       "pkg_resources                               NA\n",
       "prompt_toolkit                              3.0.20\n",
       "proto                                       NA\n",
       "pure_eval                                   0.2.2\n",
       "pyarrow                                     5.0.0\n",
       "pyasn1                                      0.4.8\n",
       "pyasn1_modules                              0.2.8\n",
       "pydev_ipython                               NA\n",
       "pydevconsole                                NA\n",
       "pydevd                                      2.6.0\n",
       "pydevd_concurrency_analyser                 NA\n",
       "pydevd_file_utils                           NA\n",
       "pydevd_plugins                              NA\n",
       "pydevd_tracing                              NA\n",
       "pydot                                       1.4.2\n",
       "pygments                                    2.11.2\n",
       "pymongo                                     3.12.3\n",
       "pyparsing                                   2.4.2\n",
       "pythoncom                                   NA\n",
       "pytz                                        2022.1\n",
       "pywintypes                                  NA\n",
       "requests                                    2.27.1\n",
       "rsa                                         4.8\n",
       "setuptools                                  61.2.0\n",
       "six                                         1.16.0\n",
       "stack_data                                  0.2.0\n",
       "tensorboard                                 2.9.0\n",
       "tensorflow                                  2.9.1\n",
       "termcolor                                   1.1.0\n",
       "tfx_bsl                                     1.8.0\n",
       "threadpoolctl                               3.1.0\n",
       "tornado                                     6.1\n",
       "traitlets                                   5.1.1\n",
       "typing_extensions                           NA\n",
       "uritemplate                                 3.0.1\n",
       "urllib3                                     1.26.9\n",
       "wcwidth                                     0.2.5\n",
       "win32api                                    NA\n",
       "win32com                                    NA\n",
       "win32security                               NA\n",
       "wincertstore                                NA\n",
       "wrapt                                       1.14.1\n",
       "zipp                                        NA\n",
       "zmq                                         22.3.0\n",
       "zoneinfo                                    NA\n",
       "</pre>\n",
       "</details> <!-- seems like this ends pre, so might as well be explicit -->\n",
       "<pre>\n",
       "-----\n",
       "IPython             8.3.0\n",
       "jupyter_client      7.2.2\n",
       "jupyter_core        4.10.0\n",
       "notebook            6.4.11\n",
       "-----\n",
       "Python 3.9.12 (main, Apr  4 2022, 05:22:27) [MSC v.1916 64 bit (AMD64)]\n",
       "Windows-10-10.0.19044-SP0\n",
       "-----\n",
       "Session information updated at 2022-05-27 17:32\n",
       "</pre>\n",
       "</details>"
      ],
      "text/plain": [
       "<IPython.core.display.HTML object>"
      ]
     },
     "execution_count": 32,
     "metadata": {},
     "output_type": "execute_result"
    }
   ],
   "source": [
    "#pip install session-info\n",
    "import session_info\n",
    "session_info.show()"
   ]
  },
  {
   "cell_type": "code",
   "execution_count": null,
   "id": "886d02ef",
   "metadata": {},
   "outputs": [],
   "source": []
  }
 ],
 "metadata": {
  "kernelspec": {
   "display_name": "Python 3 (ipykernel)",
   "language": "python",
   "name": "python3"
  },
  "language_info": {
   "codemirror_mode": {
    "name": "ipython",
    "version": 3
   },
   "file_extension": ".py",
   "mimetype": "text/x-python",
   "name": "python",
   "nbconvert_exporter": "python",
   "pygments_lexer": "ipython3",
   "version": "3.9.12"
  }
 },
 "nbformat": 4,
 "nbformat_minor": 5
}
